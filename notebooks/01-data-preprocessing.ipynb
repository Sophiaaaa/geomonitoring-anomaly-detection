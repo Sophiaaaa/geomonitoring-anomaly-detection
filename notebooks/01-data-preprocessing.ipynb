{
  "cells": [
    {
      "cell_type": "code",
      "execution_count": null,
      "metadata": {
        "vscode": {
          "languageId": "plaintext"
        }
      },
      "outputs": [],
      "source": [
        "# 数据预处理\n",
        "\n",
        "本notebook展示了地理监测数据的预处理流程，包括：\n",
        "- 数据加载与清洗\n",
        "- 缺失值处理\n",
        "- 单位转换\n",
        "- 异常值检测\n",
        "- 数据标准化\n",
        "\n",
        "## 1. 导入必要的库\n"
      ]
    },
    {
      "cell_type": "code",
      "execution_count": null,
      "metadata": {},
      "outputs": [],
      "source": [
        "import sys\n",
        "sys.path.append('../src')\n",
        "\n",
        "import pandas as pd\n",
        "import numpy as np\n",
        "import matplotlib.pyplot as plt\n",
        "import seaborn as sns\n",
        "from pathlib import Path\n",
        "import warnings\n",
        "warnings.filterwarnings('ignore')\n",
        "\n",
        "# 导入自定义模块\n",
        "from data_loader import DataLoader\n",
        "from preprocessing import DataPreprocessor\n",
        "\n",
        "# 设置中文字体\n",
        "plt.rcParams['font.sans-serif'] = ['SimHei', 'DejaVu Sans']\n",
        "plt.rcParams['axes.unicode_minus'] = False\n",
        "\n",
        "# 设置显示选项\n",
        "pd.set_option('display.max_columns', None)\n",
        "pd.set_option('display.float_format', '{:.4f}'.format)\n",
        "\n",
        "print(\"库导入完成\")\n"
      ]
    },
    {
      "cell_type": "code",
      "execution_count": null,
      "metadata": {},
      "outputs": [],
      "source": [
        "## 2. 初始化数据加载器和预处理器\n"
      ]
    },
    {
      "cell_type": "code",
      "execution_count": null,
      "metadata": {},
      "outputs": [],
      "source": [
        "# 初始化数据加载器\n",
        "loader = DataLoader(config_path=\"../config/regions.yaml\")\n",
        "\n",
        "# 初始化数据预处理器\n",
        "preprocessor = DataPreprocessor()\n",
        "\n",
        "# 查看可用区域\n",
        "regions = loader.list_available_regions()\n",
        "print(\"可用区域:\", regions)\n",
        "\n",
        "# 选择第一个区域进行演示\n",
        "region_name = regions[0]\n",
        "region_info = loader.get_region_info(region_name)\n",
        "print(f\"\\n选择区域: {region_name}\")\n",
        "print(f\"区域信息: {region_info}\")\n"
      ]
    }
  ],
  "metadata": {
    "language_info": {
      "name": "python"
    }
  },
  "nbformat": 4,
  "nbformat_minor": 2
}
