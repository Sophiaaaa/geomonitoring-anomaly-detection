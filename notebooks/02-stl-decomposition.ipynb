{
  "cells": [
    {
      "cell_type": "code",
      "execution_count": null,
      "metadata": {
        "vscode": {
          "languageId": "plaintext"
        }
      },
      "outputs": [],
      "source": [
        "# STL分解 - 时间序列分解\n",
        "\n",
        "本notebook展示了基于STL(Season and Trend decomposition using Loess)的时间序列分解方法，包括：\n",
        "- 时间序列数据的准备\n",
        "- STL分解（趋势、季节性、残差）\n",
        "- 分解结果的可视化\n",
        "- 季节性和趋势强度分析\n",
        "- 基于残差的异常检测\n",
        "\n",
        "## 1. 导入必要的库\n"
      ]
    }
  ],
  "metadata": {
    "language_info": {
      "name": "python"
    }
  },
  "nbformat": 4,
  "nbformat_minor": 2
}
