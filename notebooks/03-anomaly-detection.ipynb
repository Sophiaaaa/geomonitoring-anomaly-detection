{
  "cells": [
    {
      "cell_type": "code",
      "execution_count": null,
      "metadata": {
        "vscode": {
          "languageId": "plaintext"
        }
      },
      "outputs": [],
      "source": [
        "# 异常检测\n",
        "\n",
        "本notebook展示了多种异常检测算法的应用，包括：\n",
        "- 孤立森林（Isolation Forest）\n",
        "- 局部异常因子（LOF）\n",
        "- One-Class SVM\n",
        "- DBSCAN聚类\n",
        "- 集成异常检测方法\n",
        "- 结果评估与可视化\n",
        "\n",
        "## 1. 导入必要的库\n"
      ]
    }
  ],
  "metadata": {
    "language_info": {
      "name": "python"
    }
  },
  "nbformat": 4,
  "nbformat_minor": 2
}
