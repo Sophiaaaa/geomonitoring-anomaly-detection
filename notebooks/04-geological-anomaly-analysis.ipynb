{
  "cells": [
    {
      "cell_type": "code",
      "execution_count": null,
      "metadata": {
        "vscode": {
          "languageId": "plaintext"
        }
      },
      "outputs": [],
      "source": [
        "# 地质灾害监测异常检测分析\n",
        "\n",
        "本notebook演示了如何使用专门为地质灾害监测数据开发的异常检测系统。\n",
        "\n",
        "该系统支持7种监测数据类型：\n",
        "- 泥水位监测\n",
        "- 倾角监测  \n",
        "- 加速度监测\n",
        "- GNSS位移监测\n",
        "- 含水率监测\n",
        "- 雨量监测\n",
        "- 裂缝监测\n",
        "\n",
        "## 1. 导入必要的库和模块\n"
      ]
    },
    {
      "cell_type": "code",
      "execution_count": null,
      "metadata": {},
      "outputs": [],
      "source": [
        "import sys\n",
        "sys.path.append('../src')\n",
        "\n",
        "import pandas as pd\n",
        "import numpy as np\n",
        "import matplotlib.pyplot as plt\n",
        "import seaborn as sns\n",
        "from pathlib import Path\n",
        "import warnings\n",
        "warnings.filterwarnings('ignore')\n",
        "\n",
        "# 导入自定义模块\n",
        "from hive_data_loader import HiveDataLoader\n",
        "from geological_anomaly_detector import GeologicalAnomalyDetector\n",
        "from main_analysis import GeologicalAnomalyAnalyzer\n",
        "\n",
        "# 设置中文字体\n",
        "plt.rcParams['font.sans-serif'] = ['SimHei', 'DejaVu Sans']\n",
        "plt.rcParams['axes.unicode_minus'] = False\n",
        "\n",
        "# 设置显示选项\n",
        "pd.set_option('display.max_columns', None)\n",
        "pd.set_option('display.float_format', '{:.4f}'.format)\n",
        "\n",
        "print(\"库导入完成\")\n"
      ]
    },
    {
      "cell_type": "code",
      "execution_count": null,
      "metadata": {},
      "outputs": [],
      "source": [
        "## 2. 数据加载与探索\n",
        "\n",
        "使用HiveDataLoader加载7张监测数据表\n"
      ]
    },
    {
      "cell_type": "code",
      "execution_count": null,
      "metadata": {},
      "outputs": [],
      "source": [
        "# 初始化数据加载器\n",
        "loader = HiveDataLoader()\n",
        "\n",
        "# 查看所有可用的表\n",
        "print(\"可用的监测数据表:\")\n",
        "for table_key in loader.get_table_list():\n",
        "    description = loader.get_table_description(table_key)\n",
        "    print(f\"  {table_key}: {description}\")\n",
        "\n",
        "# 加载所有表的数据\n",
        "print(\"\\n正在加载所有监测数据...\")\n",
        "all_data = loader.load_all_tables()\n",
        "\n",
        "# 显示每个表的基本信息\n",
        "print(\"\\n各表数据概览:\")\n",
        "for table_key, df in all_data.items():\n",
        "    print(f\"\\n{table_key}:\")\n",
        "    print(f\"  形状: {df.shape}\")\n",
        "    print(f\"  列名: {list(df.columns)}\")\n",
        "    print(f\"  时间范围: {df['create_time_s'].min()} 至 {df['create_time_s'].max()}\")\n",
        "    print(f\"  监测点数量: {df['monitor_point_code'].nunique()}\")\n",
        "    \n",
        "# 构建特征矩阵\n",
        "print(\"\\n构建特征矩阵...\")\n",
        "feature_matrix = loader.get_feature_matrix(all_data)\n",
        "print(f\"特征矩阵形状: {feature_matrix.shape}\")\n",
        "print(f\"特征列: {[col for col in feature_matrix.columns if col not in ['monitor_point_code', 'create_time_s']]}\")\n",
        "\n",
        "# 显示特征矩阵的前几行\n",
        "print(\"\\n特征矩阵预览:\")\n",
        "feature_matrix.head()\n"
      ]
    },
    {
      "cell_type": "code",
      "execution_count": null,
      "metadata": {},
      "outputs": [],
      "source": [
        "## 3. 运行完整的异常检测分析\n",
        "\n",
        "使用GeologicalAnomalyAnalyzer进行端到端的异常检测分析\n"
      ]
    },
    {
      "cell_type": "code",
      "execution_count": null,
      "metadata": {},
      "outputs": [],
      "source": [
        "# 创建异常检测分析器\n",
        "analyzer = GeologicalAnomalyAnalyzer(output_dir=\"../outputs\")\n",
        "\n",
        "# 运行完整的异常检测分析\n",
        "print(\"开始运行完整的异常检测分析...\")\n",
        "analysis_results = analyzer.run_complete_analysis(\n",
        "    contamination=0.1,        # 异常值比例\n",
        "    window_size=24           # 时间窗口大小（小时）\n",
        ")\n",
        "\n",
        "print(\"\\n分析完成！\")\n",
        "\n",
        "# 显示分析摘要\n",
        "summary = analyzer.get_analysis_summary()\n",
        "print(\"\\n=== 分析摘要 ===\")\n",
        "for key, value in summary.items():\n",
        "    print(f\"{key}: {value}\")\n",
        "\n",
        "# 显示异常检测结果\n",
        "print(\"\\n=== 异常检测结果 ===\")\n",
        "multivariate_results = analysis_results['anomaly_detection']['multivariate_results']\n",
        "for method, result in multivariate_results['by_method'].items():\n",
        "    print(f\"{method}: 异常数量={result['anomaly_count']}, 异常率={result['anomaly_rate']:.2%}\")\n",
        "\n",
        "# 显示特征重要性\n",
        "print(\"\\n=== 特征重要性 TOP 5 ===\")\n",
        "feature_importance = analysis_results['anomaly_detection']['feature_importance']\n",
        "sorted_features = sorted(feature_importance.items(), key=lambda x: x[1], reverse=True)\n",
        "for feature, importance in sorted_features[:5]:\n",
        "    print(f\"{feature}: {importance:.3f}\")\n",
        "\n",
        "# 显示建议\n",
        "print(\"\\n=== 建议 ===\")\n",
        "for rec in multivariate_results['recommendations']:\n",
        "    print(f\"- {rec}\")\n"
      ]
    }
  ],
  "metadata": {
    "language_info": {
      "name": "python"
    }
  },
  "nbformat": 4,
  "nbformat_minor": 2
}
